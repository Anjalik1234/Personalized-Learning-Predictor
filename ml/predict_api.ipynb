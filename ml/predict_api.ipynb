{
 "cells": [
  {
   "cell_type": "code",
   "execution_count": null,
   "id": "f1ef2d25-16a7-4cec-b343-639ca6f5962c",
   "metadata": {},
   "outputs": [
    {
     "name": "stdout",
     "output_type": "stream",
     "text": [
      " * Serving Flask app '__main__'\n",
      " * Debug mode: off\n"
     ]
    },
    {
     "name": "stderr",
     "output_type": "stream",
     "text": [
      "WARNING: This is a development server. Do not use it in a production deployment. Use a production WSGI server instead.\n",
      " * Running on http://127.0.0.1:5000\n",
      "Press CTRL+C to quit\n",
      "127.0.0.1 - - [19/Jul/2025 18:42:10] \"POST /predict HTTP/1.1\" 200 -\n"
     ]
    }
   ],
   "source": [
    "from flask import Flask, request, jsonify\n",
    "import joblib\n",
    "import numpy as np\n",
    "import pandas as pd\n",
    "\n",
    "app = Flask(__name__)\n",
    "\n",
    "# Load model and feature list\n",
    "model = joblib.load('model.pkl')\n",
    "feature_columns = joblib.load('feature_columns.pkl')\n",
    "\n",
    "# Skill list to match original encoding\n",
    "skill_list = [\"Python\", \"Java\", \"C++\", \"SQL\", \"HTML\", \"CSS\", \"JavaScript\", \"Docker\",\n",
    "              \"AWS\", \"Figma\", \"React\", \"Linux\"]\n",
    "\n",
    "@app.route('/predict', methods=['POST'])\n",
    "def predict():\n",
    "    data = request.json\n",
    "\n",
    "    # Extract inputs\n",
    "    academic_year = data['academic_year']\n",
    "    branch = data['branch']\n",
    "    quiz_responses = data['quiz_responses']  # list of 10\n",
    "    skills = data['skills']  # list of strings like [\"Python\", \"Docker\"]\n",
    "\n",
    "    # Build the input row\n",
    "    input_data = {}\n",
    "\n",
    "    # One-hot encoding\n",
    "    for col in feature_columns:\n",
    "        input_data[col] = 0\n",
    "\n",
    "    input_data[f'academic_year_{academic_year}'] = 1\n",
    "    input_data[f'branch_{branch}'] = 1\n",
    "\n",
    "    for i, answer in enumerate(quiz_responses, 1):\n",
    "        input_data[f'quiz_q{i}_response_{answer}'] = 1\n",
    "\n",
    "    for skill in skill_list:\n",
    "        input_data[f'skill_{skill}'] = 1 if skill in skills else 0\n",
    "\n",
    "    # Convert to DataFrame\n",
    "    input_df = pd.DataFrame([input_data])\n",
    "\n",
    "    # Ensure all columns are present\n",
    "    input_df = input_df.reindex(columns=feature_columns, fill_value=0)\n",
    "\n",
    "    # Predict\n",
    "    pred = model.predict(input_df)\n",
    "\n",
    "    # Normalize to 100\n",
    "    pred = np.clip(pred, 0, None)\n",
    "    pred = pred / pred.sum(axis=1, keepdims=True) * 100\n",
    "\n",
    "    return jsonify({\n",
    "        'visual_percent': round(pred[0][0], 2),\n",
    "        'auditory_percent': round(pred[0][1], 2),\n",
    "        'kinesthetic_percent': round(pred[0][2], 2)\n",
    "    })\n",
    "\n",
    "if __name__ == '__main__':\n",
    "    app.run(port=5000)\n"
   ]
  },
  {
   "cell_type": "code",
   "execution_count": null,
   "id": "b7402851-2aae-4d96-8a6d-4e7ee964d234",
   "metadata": {},
   "outputs": [],
   "source": []
  }
 ],
 "metadata": {
  "kernelspec": {
   "display_name": "Python 3 (ipykernel)",
   "language": "python",
   "name": "python3"
  },
  "language_info": {
   "codemirror_mode": {
    "name": "ipython",
    "version": 3
   },
   "file_extension": ".py",
   "mimetype": "text/x-python",
   "name": "python",
   "nbconvert_exporter": "python",
   "pygments_lexer": "ipython3",
   "version": "3.12.7"
  }
 },
 "nbformat": 4,
 "nbformat_minor": 5
}
